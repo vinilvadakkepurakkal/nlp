{
  "nbformat": 4,
  "nbformat_minor": 0,
  "metadata": {
    "colab": {
      "name": "NLP-Autosummarize.ipynb",
      "provenance": [],
      "authorship_tag": "ABX9TyP/1AQQeZZWv3iTupLHfoK5",
      "include_colab_link": true
    },
    "kernelspec": {
      "name": "python3",
      "display_name": "Python 3"
    }
  },
  "cells": [
    {
      "cell_type": "markdown",
      "metadata": {
        "id": "view-in-github",
        "colab_type": "text"
      },
      "source": [
        "<a href=\"https://colab.research.google.com/github/vinilvadakkepurakkal/nlp/blob/master/NLP_Autosummarize.ipynb\" target=\"_parent\"><img src=\"https://colab.research.google.com/assets/colab-badge.svg\" alt=\"Open In Colab\"/></a>"
      ]
    },
    {
      "cell_type": "code",
      "metadata": {
        "id": "alqiftET-qGx",
        "colab_type": "code",
        "colab": {}
      },
      "source": [
        "import urllib.request"
      ],
      "execution_count": 0,
      "outputs": []
    },
    {
      "cell_type": "code",
      "metadata": {
        "id": "6cSA3Uoyb15y",
        "colab_type": "code",
        "colab": {}
      },
      "source": [
        "from bs4 import BeautifulSoup"
      ],
      "execution_count": 0,
      "outputs": []
    },
    {
      "cell_type": "code",
      "metadata": {
        "id": "ifM0X4GfcJQ5",
        "colab_type": "code",
        "colab": {}
      },
      "source": [
        "articleUrl=\"https://english.mathrubhumi.com/news/world/brazilian-president-thanks-modi-for-allowing-export-of-raw-materials-to-produce-hydroxychloroquine-1.4678129\""
      ],
      "execution_count": 0,
      "outputs": []
    },
    {
      "cell_type": "code",
      "metadata": {
        "id": "uiRemdaUcMSQ",
        "colab_type": "code",
        "colab": {}
      },
      "source": [
        "page=urllib.request.urlopen(articleUrl).read().decode('utf8')"
      ],
      "execution_count": 0,
      "outputs": []
    },
    {
      "cell_type": "code",
      "metadata": {
        "id": "KDzf4hqScPp7",
        "colab_type": "code",
        "colab": {}
      },
      "source": [
        "soup = BeautifulSoup(page)"
      ],
      "execution_count": 0,
      "outputs": []
    },
    {
      "cell_type": "code",
      "metadata": {
        "id": "CBhWXl4pcQiP",
        "colab_type": "code",
        "colab": {}
      },
      "source": [
        "text = ' '.join(map(lambda p: p.text, soup.find_all('p'))) "
      ],
      "execution_count": 0,
      "outputs": []
    },
    {
      "cell_type": "code",
      "metadata": {
        "id": "GDScH6NMccxx",
        "colab_type": "code",
        "outputId": "c6ed56e4-e45b-4a26-e0bc-9d44da918b0d",
        "colab": {
          "base_uri": "https://localhost:8080/",
          "height": 55
        }
      },
      "source": [
        " text"
      ],
      "execution_count": 0,
      "outputs": [
        {
          "output_type": "execute_result",
          "data": {
            "text/plain": [
              "'New Delhi: Brazilian President Jair Bolsonaro has thanked Prime Minister Narendra Modi for facilitating the export of raw materials to Brazil for production of anti-malarial drug hydroxychloroquine, cited by many as a viable therapeutic solution to fight coronavirus infection. In an address to the nation on Wednesday, Bolsonaro said Brazil will receive ingredients from India for the production of hydroxychloroquine on Saturday. \"We have more good news. As an outcome of my direct conversation with Prime Minister of India, we will receive, by Saturday, raw materials to continue our production of hydroxychloroquine so that we can treat patients of COVID-19 as well as of lupus, malaria, and arthritis,\" he said. \"I thank Prime Minister Narendra Modi and the people of India for such timely help to the people of Brazil,\" the Brazilian leader said. Parts of the transcript of his speech were made available by a diplomat from the Latin American country. Modi and Bolsonaro had a telephonic conversation on April 4 during which the Brazilian leader requested Modi to allow export of the drug as well as raw materials for its production in Brazil. Separately, in a letter to Modi on Tuesday, Bolsonaro mentioned that two Brazilian laboratories, EMS and Apsen, have been importing raw materials from India for several years to produce hydroxychloroquine and that Brazil\\'s internal supply of the drug depends on its production by the two firms. Bolsonaro requested Modi to ensure that Brazil gets the supply of the raw material ordered prior to the imposition of the ban on hydroxychloroquine. On March 25, India banned export of hydroxychloroquine in the midst of views in some quarters that the drug could be used to fight COVID-19. India is the largest exporter of the drug. The ban was partially lifted on Tuesday. In the letter to Modi, the Brazilian leader invoked ancient Indian epic, Ramayana, mentioning the story of how Lord Hanuman brought a holy medicine from the Himalayas to save the life of Laxmana. Brazil, the largest country in Latin America, has recorded close to 14,000 coronavirus cases and over 660 deaths due to the infection. Globally, the virus has killed over 75,000 people and infected more than 13 lakh. Bolsonaro said Brazil hoped that the use of hydroxychloroquine would help in the treatment of coronavirus-infected people in his country. \"Like many other countries, Brazil places hope in the use of hydroxychloroquine as an effective means to treat patients who have contracted COVID-19,\" the Brazilian leader wrote in the letter. He also referred to the partnership between the two countries in the pharmaceutical sector, adding that leading Brazilian pharmaceutical laboratories have a \"solid and long\" partnership with Indian laboratories. PTI \\t Related Articles '"
            ]
          },
          "metadata": {
            "tags": []
          },
          "execution_count": 103
        }
      ]
    },
    {
      "cell_type": "code",
      "metadata": {
        "id": "WbzmDx5CdO4m",
        "colab_type": "code",
        "outputId": "b0b2ec19-6dc4-4da5-ee34-a3fabba7a032",
        "colab": {
          "base_uri": "https://localhost:8080/",
          "height": 104
        }
      },
      "source": [
        "import nltk\n",
        "from nltk.tokenize import word_tokenize, sent_tokenize\n",
        "from nltk.corpus import stopwords\n",
        "from string import punctuation\n",
        "nltk.download('stopwords')\n",
        "nltk.download('punkt')"
      ],
      "execution_count": 0,
      "outputs": [
        {
          "output_type": "stream",
          "text": [
            "[nltk_data] Downloading package stopwords to /root/nltk_data...\n",
            "[nltk_data]   Package stopwords is already up-to-date!\n",
            "[nltk_data] Downloading package punkt to /root/nltk_data...\n",
            "[nltk_data]   Package punkt is already up-to-date!\n"
          ],
          "name": "stdout"
        },
        {
          "output_type": "execute_result",
          "data": {
            "text/plain": [
              "True"
            ]
          },
          "metadata": {
            "tags": []
          },
          "execution_count": 104
        }
      ]
    },
    {
      "cell_type": "code",
      "metadata": {
        "id": "1hcePRf2d55m",
        "colab_type": "code",
        "colab": {}
      },
      "source": [
        "stopwords= stopwords.words('english')+ list(punctuation)"
      ],
      "execution_count": 0,
      "outputs": []
    },
    {
      "cell_type": "code",
      "metadata": {
        "id": "iXSssZ1IjsUA",
        "colab_type": "code",
        "colab": {}
      },
      "source": [
        "sents = sent_tokenize(text)"
      ],
      "execution_count": 0,
      "outputs": []
    },
    {
      "cell_type": "code",
      "metadata": {
        "id": "EXQ23jRKlWd4",
        "colab_type": "code",
        "colab": {}
      },
      "source": [
        "word_sent = word_tokenize(text.lower())"
      ],
      "execution_count": 0,
      "outputs": []
    },
    {
      "cell_type": "code",
      "metadata": {
        "id": "4K-rJLVdlcLg",
        "colab_type": "code",
        "colab": {}
      },
      "source": [
        "word_sent = [word for word in word_sent if word not in stopwords]"
      ],
      "execution_count": 0,
      "outputs": []
    },
    {
      "cell_type": "code",
      "metadata": {
        "id": "w5Tx32h_mh7Y",
        "colab_type": "code",
        "colab": {}
      },
      "source": [
        "from nltk.probability import FreqDist"
      ],
      "execution_count": 0,
      "outputs": []
    },
    {
      "cell_type": "code",
      "metadata": {
        "id": "mBsEQcbXmxsa",
        "colab_type": "code",
        "colab": {}
      },
      "source": [
        "freq = FreqDist(word_sent)"
      ],
      "execution_count": 0,
      "outputs": []
    },
    {
      "cell_type": "code",
      "metadata": {
        "id": "SUG7_dPKnJTd",
        "colab_type": "code",
        "outputId": "e6202b5e-edcd-4ea8-c31b-cb9657f9fbd6",
        "colab": {
          "base_uri": "https://localhost:8080/",
          "height": 1000
        }
      },
      "source": [
        "freq"
      ],
      "execution_count": 0,
      "outputs": [
        {
          "output_type": "execute_result",
          "data": {
            "text/plain": [
              "FreqDist({\"''\": 4,\n",
              "          \"'s\": 1,\n",
              "          '13': 1,\n",
              "          '14,000': 1,\n",
              "          '25': 1,\n",
              "          '4': 1,\n",
              "          '660': 1,\n",
              "          '75,000': 1,\n",
              "          '``': 4,\n",
              "          'adding': 1,\n",
              "          'address': 1,\n",
              "          'allow': 1,\n",
              "          'also': 1,\n",
              "          'america': 1,\n",
              "          'american': 1,\n",
              "          'ancient': 1,\n",
              "          'anti-malarial': 1,\n",
              "          'april': 1,\n",
              "          'apsen': 1,\n",
              "          'arthritis': 1,\n",
              "          'articles': 1,\n",
              "          'available': 1,\n",
              "          'ban': 2,\n",
              "          'banned': 1,\n",
              "          'bolsonaro': 6,\n",
              "          'brazil': 9,\n",
              "          'brazilian': 7,\n",
              "          'brought': 1,\n",
              "          'cases': 1,\n",
              "          'cited': 1,\n",
              "          'close': 1,\n",
              "          'continue': 1,\n",
              "          'contracted': 1,\n",
              "          'conversation': 2,\n",
              "          'coronavirus': 2,\n",
              "          'coronavirus-infected': 1,\n",
              "          'could': 1,\n",
              "          'countries': 2,\n",
              "          'country': 3,\n",
              "          'covid-19': 3,\n",
              "          'deaths': 1,\n",
              "          'delhi': 1,\n",
              "          'depends': 1,\n",
              "          'diplomat': 1,\n",
              "          'direct': 1,\n",
              "          'drug': 5,\n",
              "          'due': 1,\n",
              "          'effective': 1,\n",
              "          'ems': 1,\n",
              "          'ensure': 1,\n",
              "          'epic': 1,\n",
              "          'export': 3,\n",
              "          'exporter': 1,\n",
              "          'facilitating': 1,\n",
              "          'fight': 2,\n",
              "          'firms': 1,\n",
              "          'gets': 1,\n",
              "          'globally': 1,\n",
              "          'good': 1,\n",
              "          'hanuman': 1,\n",
              "          'help': 2,\n",
              "          'himalayas': 1,\n",
              "          'holy': 1,\n",
              "          'hope': 1,\n",
              "          'hoped': 1,\n",
              "          'hydroxychloroquine': 8,\n",
              "          'importing': 1,\n",
              "          'imposition': 1,\n",
              "          'india': 6,\n",
              "          'indian': 2,\n",
              "          'infected': 1,\n",
              "          'infection': 2,\n",
              "          'ingredients': 1,\n",
              "          'internal': 1,\n",
              "          'invoked': 1,\n",
              "          'jair': 1,\n",
              "          'killed': 1,\n",
              "          'laboratories': 3,\n",
              "          'lakh': 1,\n",
              "          'largest': 2,\n",
              "          'latin': 2,\n",
              "          'laxmana': 1,\n",
              "          'leader': 4,\n",
              "          'leading': 1,\n",
              "          'letter': 3,\n",
              "          'life': 1,\n",
              "          'lifted': 1,\n",
              "          'like': 1,\n",
              "          'long': 1,\n",
              "          'lord': 1,\n",
              "          'lupus': 1,\n",
              "          'made': 1,\n",
              "          'malaria': 1,\n",
              "          'many': 2,\n",
              "          'march': 1,\n",
              "          'material': 1,\n",
              "          'materials': 4,\n",
              "          'means': 1,\n",
              "          'medicine': 1,\n",
              "          'mentioned': 1,\n",
              "          'mentioning': 1,\n",
              "          'midst': 1,\n",
              "          'minister': 3,\n",
              "          'modi': 7,\n",
              "          'narendra': 2,\n",
              "          'nation': 1,\n",
              "          'new': 1,\n",
              "          'news': 1,\n",
              "          'ordered': 1,\n",
              "          'outcome': 1,\n",
              "          'partially': 1,\n",
              "          'partnership': 2,\n",
              "          'parts': 1,\n",
              "          'patients': 2,\n",
              "          'people': 4,\n",
              "          'pharmaceutical': 2,\n",
              "          'places': 1,\n",
              "          'president': 1,\n",
              "          'prime': 3,\n",
              "          'prior': 1,\n",
              "          'produce': 1,\n",
              "          'production': 5,\n",
              "          'pti': 1,\n",
              "          'quarters': 1,\n",
              "          'ramayana': 1,\n",
              "          'raw': 5,\n",
              "          'receive': 2,\n",
              "          'recorded': 1,\n",
              "          'referred': 1,\n",
              "          'related': 1,\n",
              "          'requested': 2,\n",
              "          'said': 4,\n",
              "          'saturday': 2,\n",
              "          'save': 1,\n",
              "          'sector': 1,\n",
              "          'separately': 1,\n",
              "          'several': 1,\n",
              "          'solid': 1,\n",
              "          'solution': 1,\n",
              "          'speech': 1,\n",
              "          'story': 1,\n",
              "          'supply': 2,\n",
              "          'telephonic': 1,\n",
              "          'thank': 1,\n",
              "          'thanked': 1,\n",
              "          'therapeutic': 1,\n",
              "          'timely': 1,\n",
              "          'transcript': 1,\n",
              "          'treat': 2,\n",
              "          'treatment': 1,\n",
              "          'tuesday': 2,\n",
              "          'two': 3,\n",
              "          'use': 2,\n",
              "          'used': 1,\n",
              "          'viable': 1,\n",
              "          'views': 1,\n",
              "          'virus': 1,\n",
              "          'wednesday': 1,\n",
              "          'well': 2,\n",
              "          'would': 1,\n",
              "          'wrote': 1,\n",
              "          'years': 1})"
            ]
          },
          "metadata": {
            "tags": []
          },
          "execution_count": 111
        }
      ]
    },
    {
      "cell_type": "code",
      "metadata": {
        "id": "LIbm3Ok9nKrG",
        "colab_type": "code",
        "colab": {}
      },
      "source": [
        "from heapq import nlargest"
      ],
      "execution_count": 0,
      "outputs": []
    },
    {
      "cell_type": "code",
      "metadata": {
        "id": "JqSp5CMInP9G",
        "colab_type": "code",
        "outputId": "b7e0f847-dcd6-429d-d146-58c2da2eed01",
        "colab": {
          "base_uri": "https://localhost:8080/",
          "height": 191
        }
      },
      "source": [
        "nlargest(10, freq, key=freq.get)"
      ],
      "execution_count": 0,
      "outputs": [
        {
          "output_type": "execute_result",
          "data": {
            "text/plain": [
              "['brazil',\n",
              " 'hydroxychloroquine',\n",
              " 'brazilian',\n",
              " 'modi',\n",
              " 'bolsonaro',\n",
              " 'india',\n",
              " 'raw',\n",
              " 'production',\n",
              " 'drug',\n",
              " 'materials']"
            ]
          },
          "metadata": {
            "tags": []
          },
          "execution_count": 113
        }
      ]
    },
    {
      "cell_type": "code",
      "metadata": {
        "id": "MrzXZLGxnTVp",
        "colab_type": "code",
        "colab": {}
      },
      "source": [
        "from collections import defaultdict"
      ],
      "execution_count": 0,
      "outputs": []
    },
    {
      "cell_type": "code",
      "metadata": {
        "id": "E0ychYkLn7cd",
        "colab_type": "code",
        "colab": {}
      },
      "source": [
        "ranking = defaultdict(int)"
      ],
      "execution_count": 0,
      "outputs": []
    },
    {
      "cell_type": "code",
      "metadata": {
        "id": "Xgl-fGxCnZfZ",
        "colab_type": "code",
        "colab": {}
      },
      "source": [
        "for i, sent in enumerate(sents):\n",
        "    for w in word_tokenize(sent.lower()):\n",
        "        if w in freq:\n",
        "            ranking[i] += freq[w]"
      ],
      "execution_count": 0,
      "outputs": []
    },
    {
      "cell_type": "code",
      "metadata": {
        "id": "9hjowzfSnhpa",
        "colab_type": "code",
        "outputId": "9a4200a2-a639-47c3-d73b-826cf9c5fb9e",
        "colab": {
          "base_uri": "https://localhost:8080/",
          "height": 364
        }
      },
      "source": [
        "ranking"
      ],
      "execution_count": 0,
      "outputs": [
        {
          "output_type": "execute_result",
          "data": {
            "text/plain": [
              "defaultdict(int,\n",
              "            {0: 86,\n",
              "             1: 46,\n",
              "             2: 6,\n",
              "             3: 63,\n",
              "             4: 65,\n",
              "             5: 12,\n",
              "             6: 72,\n",
              "             7: 90,\n",
              "             8: 47,\n",
              "             9: 35,\n",
              "             10: 14,\n",
              "             11: 6,\n",
              "             12: 38,\n",
              "             13: 28,\n",
              "             14: 11,\n",
              "             15: 42,\n",
              "             16: 59,\n",
              "             17: 43,\n",
              "             18: 3})"
            ]
          },
          "metadata": {
            "tags": []
          },
          "execution_count": 121
        }
      ]
    },
    {
      "cell_type": "code",
      "metadata": {
        "id": "qTR8oSFRoRMD",
        "colab_type": "code",
        "colab": {}
      },
      "source": [
        "sent_idx = nlargest(4, ranking, key=ranking.get)"
      ],
      "execution_count": 0,
      "outputs": []
    },
    {
      "cell_type": "code",
      "metadata": {
        "id": "so-3a3lzodWf",
        "colab_type": "code",
        "outputId": "0e951311-f9fe-40d3-96d0-1fc77d9b738c",
        "colab": {
          "base_uri": "https://localhost:8080/",
          "height": 35
        }
      },
      "source": [
        "sent_idx"
      ],
      "execution_count": 0,
      "outputs": [
        {
          "output_type": "execute_result",
          "data": {
            "text/plain": [
              "[7, 0, 6, 4]"
            ]
          },
          "metadata": {
            "tags": []
          },
          "execution_count": 123
        }
      ]
    },
    {
      "cell_type": "code",
      "metadata": {
        "id": "KS_azUP7ofLp",
        "colab_type": "code",
        "outputId": "2c3d2f38-ae06-497f-cc93-47c4ec809270",
        "colab": {
          "base_uri": "https://localhost:8080/",
          "height": 107
        }
      },
      "source": [
        "[sents[j] for j in sorted(sent_idx)]"
      ],
      "execution_count": 0,
      "outputs": [
        {
          "output_type": "execute_result",
          "data": {
            "text/plain": [
              "['New Delhi: Brazilian President Jair Bolsonaro has thanked Prime Minister Narendra Modi for facilitating the export of raw materials to Brazil for production of anti-malarial drug hydroxychloroquine, cited by many as a viable therapeutic solution to fight coronavirus infection.',\n",
              " '\"I thank Prime Minister Narendra Modi and the people of India for such timely help to the people of Brazil,\" the Brazilian leader said.',\n",
              " 'Modi and Bolsonaro had a telephonic conversation on April 4 during which the Brazilian leader requested Modi to allow export of the drug as well as raw materials for its production in Brazil.',\n",
              " \"Separately, in a letter to Modi on Tuesday, Bolsonaro mentioned that two Brazilian laboratories, EMS and Apsen, have been importing raw materials from India for several years to produce hydroxychloroquine and that Brazil's internal supply of the drug depends on its production by the two firms.\"]"
            ]
          },
          "metadata": {
            "tags": []
          },
          "execution_count": 125
        }
      ]
    },
    {
      "cell_type": "code",
      "metadata": {
        "id": "ZNvHZC5MooPg",
        "colab_type": "code",
        "colab": {}
      },
      "source": [
        ""
      ],
      "execution_count": 0,
      "outputs": []
    }
  ]
}