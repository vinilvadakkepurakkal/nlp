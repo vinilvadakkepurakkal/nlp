{
  "nbformat": 4,
  "nbformat_minor": 0,
  "metadata": {
    "colab": {
      "name": "search_buddy",
      "provenance": [],
      "collapsed_sections": [],
      "authorship_tag": "ABX9TyP10wg7O4hwjccwXssvR+Y0",
      "include_colab_link": true
    },
    "kernelspec": {
      "name": "python3",
      "display_name": "Python 3"
    },
    "language_info": {
      "name": "python"
    }
  },
  "cells": [
    {
      "cell_type": "markdown",
      "metadata": {
        "id": "view-in-github",
        "colab_type": "text"
      },
      "source": [
        "<a href=\"https://colab.research.google.com/github/vinilvadakkepurakkal/nlp/blob/master/search_buddy.ipynb\" target=\"_parent\"><img src=\"https://colab.research.google.com/assets/colab-badge.svg\" alt=\"Open In Colab\"/></a>"
      ]
    },
    {
      "cell_type": "code",
      "metadata": {
        "id": "2rtOCBIp92Qs"
      },
      "source": [
        "import requests\n",
        "import string\n",
        "from lxml import html\n",
        "from googlesearch import search\n",
        "from bs4 import BeautifulSoup\n",
        "\n",
        "\n",
        "def search_buddy(query, index=0):\n",
        "    fallback = 'Sorry, I cannot think of a reply for that.'\n",
        "    result = ''\n",
        "\n",
        "    try:\n",
        "        search_result_list = list(search(query, tld=\"co.in\", num=10, stop=3, pause=1))\n",
        "\n",
        "        page = requests.get(search_result_list[index])\n",
        "\n",
        "        tree = html.fromstring(page.content)\n",
        "\n",
        "        soup = BeautifulSoup(page.content, features=\"lxml\")\n",
        "\n",
        "        article_text = ''\n",
        "        article = soup.findAll('p')\n",
        "        for element in article:\n",
        "            article_text += '\\n' + ''.join(element.findAll(text = True))\n",
        "        article_text = article_text.replace('\\n', '')\n",
        "        first_sentence = article_text.split('.')\n",
        "        first_sentence = first_sentence[0].split('?')[0]\n",
        "\n",
        "        chars_without_whitespace = first_sentence.translate(\n",
        "            { ord(c): None for c in string.whitespace }\n",
        "        )\n",
        "\n",
        "        if len(chars_without_whitespace) > 0:\n",
        "            result = first_sentence\n",
        "        else:\n",
        "            result = fallback\n",
        "\n",
        "        return result\n",
        "    except:\n",
        "        if len(result) == 0: result = fallback\n",
        "        return result"
      ],
      "execution_count": 1,
      "outputs": []
    },
    {
      "cell_type": "code",
      "metadata": {
        "colab": {
          "base_uri": "https://localhost:8080/",
          "height": 35
        },
        "id": "hv9kQfUF-Cdi",
        "outputId": "e2cc4010-e957-41df-8ad7-f558ee745ec8"
      },
      "source": [
        "search_buddy(\"Azure cyclecloud log location?\")"
      ],
      "execution_count": 11,
      "outputs": [
        {
          "output_type": "execute_result",
          "data": {
            "application/vnd.google.colaboratory.intrinsic+json": {
              "type": "string"
            },
            "text/plain": [
              "\"Depending on the issue you're trying to troubleshoot, there are different logs and standard paths to check for more information\""
            ]
          },
          "metadata": {
            "tags": []
          },
          "execution_count": 11
        }
      ]
    },
    {
      "cell_type": "code",
      "metadata": {
        "id": "c4vAdPoW-Ikl"
      },
      "source": [
        ""
      ],
      "execution_count": null,
      "outputs": []
    }
  ]
}